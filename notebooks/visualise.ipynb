{
 "cells": [
  {
   "cell_type": "code",
   "execution_count": 1,
   "id": "518f5c1b",
   "metadata": {},
   "outputs": [
    {
     "data": {
      "application/vnd.jupyter.widget-view+json": {
       "model_id": "c854cd24291d4852bed20d27dbaf58b9",
       "version_major": 2,
       "version_minor": 0
      },
      "text/plain": []
     },
     "metadata": {},
     "output_type": "display_data"
    }
   ],
   "source": [
    "import nglview"
   ]
  },
  {
   "cell_type": "code",
   "execution_count": 37,
   "id": "43db2554",
   "metadata": {},
   "outputs": [
    {
     "data": {
      "application/vnd.jupyter.widget-view+json": {
       "model_id": "5177cf0dbf5640a0957a8b8aff2fdaf2",
       "version_major": 2,
       "version_minor": 0
      },
      "text/plain": [
       "NGLWidget()"
      ]
     },
     "metadata": {},
     "output_type": "display_data"
    }
   ],
   "source": [
    "# Compare ligand files before and after conversion with Open Babel\n",
    "original_structure_file = \"/home/jjoswig/repo/wip/tests/data/ligands/ligand1.sdf\"\n",
    "converted_structure_file = \"/home/jjoswig/repo/wip/tests/data/ligands/ligand1_obabel.mol2\"  \n",
    "view = nglview.show_structure_file(original_structure_file)\n",
    "converted_structure = nglview.FileStructure(converted_structure_file)\n",
    "view.add_structure(converted_structure)\n",
    "view.center()\n",
    "view"
   ]
  },
  {
   "cell_type": "code",
   "execution_count": 38,
   "id": "2fe555ad",
   "metadata": {},
   "outputs": [],
   "source": [
    "# Modify above view\n",
    "colors = [\"red\", \"white\"]\n",
    "representations = [\"ball+stick\", \"licorice\"]\n",
    "for component, c, r in zip(view, colors, representations):\n",
    "    component.clear_representations()\n",
    "    component.add_representation(r, color=c)"
   ]
  },
  {
   "cell_type": "code",
   "execution_count": 40,
   "id": "a7f88c05",
   "metadata": {},
   "outputs": [
    {
     "ename": "ModuleNotFoundError",
     "evalue": "No module named 'openbabel'",
     "output_type": "error",
     "traceback": [
      "\u001b[31m---------------------------------------------------------------------------\u001b[39m",
      "\u001b[31mModuleNotFoundError\u001b[39m                       Traceback (most recent call last)",
      "\u001b[36mCell\u001b[39m\u001b[36m \u001b[39m\u001b[32mIn[40]\u001b[39m\u001b[32m, line 1\u001b[39m\n\u001b[32m----> \u001b[39m\u001b[32m1\u001b[39m \u001b[38;5;28;01mfrom\u001b[39;00m\u001b[38;5;250m \u001b[39m\u001b[34;01mopenbabel\u001b[39;00m\u001b[38;5;250m \u001b[39m\u001b[38;5;28;01mimport\u001b[39;00m pybel\n\u001b[32m      3\u001b[39m \u001b[38;5;66;03m# Works with .sdf, .mol2, etc.\u001b[39;00m\n\u001b[32m      4\u001b[39m mol = \u001b[38;5;28mnext\u001b[39m(pybel.readfile(\u001b[33m\"\u001b[39m\u001b[33mmol2\u001b[39m\u001b[33m\"\u001b[39m, \u001b[33m\"\u001b[39m\u001b[33m/home/jjoswig/repo/wip/tests/data/ligands/ligand1_obabel.mol2\u001b[39m\u001b[33m\"\u001b[39m))\n",
      "\u001b[31mModuleNotFoundError\u001b[39m: No module named 'openbabel'"
     ]
    }
   ],
   "source": [
    "from openbabel import pybel\n",
    "\n",
    "# Works with .sdf, .mol2, etc.\n",
    "mol = next(pybel.readfile(\"mol2\", \"/home/jjoswig/repo/wip/tests/data/ligands/ligand1_obabel.mol2\"))\n",
    "\n",
    "# Formal charge is stored in mol.charge\n",
    "print(\"Total formal charge:\", mol.charge)"
   ]
  },
  {
   "cell_type": "code",
   "execution_count": null,
   "id": "488ee30c",
   "metadata": {},
   "outputs": [],
   "source": []
  }
 ],
 "metadata": {
  "kernelspec": {
   "display_name": "openff-toolkit",
   "language": "python",
   "name": "openff-toolkit"
  },
  "language_info": {
   "codemirror_mode": {
    "name": "ipython",
    "version": 3
   },
   "file_extension": ".py",
   "mimetype": "text/x-python",
   "name": "python",
   "nbconvert_exporter": "python",
   "pygments_lexer": "ipython3",
   "version": "3.13.7"
  }
 },
 "nbformat": 4,
 "nbformat_minor": 5
}
